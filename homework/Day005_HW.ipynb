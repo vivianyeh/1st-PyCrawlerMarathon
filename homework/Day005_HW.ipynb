{
 "cells": [
  {
   "cell_type": "markdown",
   "metadata": {},
   "source": [
    "# API 資料串接 - 以 Dcard API 實作範例\n",
    "\n",
    "* 了解 Dcard API 使用方式與回傳內容\n",
    "* 撰寫程式存取 API 且解析 JSON 格式資料\n"
   ]
  },
  {
   "cell_type": "markdown",
   "metadata": {},
   "source": [
    "## 作業目標\n",
    "\n",
    "* 請利用 API: https://www.dcard.tw/_api/forums/pet/posts?popular=true 回答下列問題：\n",
    "\n",
    "1. 這個 API 一次會回傳幾筆資料？每一筆資料包含哪些欄位？\n",
    "2. 取出每一筆資料的「標題」、「貼文時間」、「留言人數」、「按讚人數」\n",
    "3. 計算熱門/非熱門文章的「平均留言人數」與「平均按讚人數」"
   ]
  },
  {
   "cell_type": "code",
   "execution_count": 1,
   "metadata": {},
   "outputs": [
    {
     "name": "stdout",
     "output_type": "stream",
     "text": [
      "1. 回傳資料筆數: 30筆\n",
      "2. 回傳資料欄位:\n"
     ]
    },
    {
     "data": {
      "text/plain": [
       "['id',\n",
       " 'title',\n",
       " 'excerpt',\n",
       " 'anonymousSchool',\n",
       " 'anonymousDepartment',\n",
       " 'pinned',\n",
       " 'forumId',\n",
       " 'replyId',\n",
       " 'createdAt',\n",
       " 'updatedAt',\n",
       " 'commentCount',\n",
       " 'likeCount',\n",
       " 'withNickname',\n",
       " 'tags',\n",
       " 'topics',\n",
       " 'meta',\n",
       " 'forumName',\n",
       " 'forumAlias',\n",
       " 'gender',\n",
       " 'school',\n",
       " 'replyTitle',\n",
       " 'mediaMeta',\n",
       " 'reactions',\n",
       " 'hidden',\n",
       " 'customStyle',\n",
       " 'isSuspiciousAccount',\n",
       " 'layout',\n",
       " 'withImages',\n",
       " 'withVideos',\n",
       " 'media',\n",
       " 'reportReasonText',\n",
       " 'postAvatar']"
      ]
     },
     "execution_count": 1,
     "metadata": {},
     "output_type": "execute_result"
    }
   ],
   "source": [
    "# 1. 這個 API 一次會回傳幾筆資料？每一筆資料包含哪些欄位？\n",
    "\n",
    "import requests\n",
    "import json\n",
    "r = requests.get('https://www.dcard.tw/_api/forums/pet/posts?popular=true')\n",
    "response = r.text\n",
    "\n",
    "popular = json.loads(response)\n",
    "print('1. 回傳資料筆數: %d筆'% len(popular))\n",
    "print('2. 回傳資料欄位:')\n",
    "list(popular[0].keys())"
   ]
  },
  {
   "cell_type": "code",
   "execution_count": 2,
   "metadata": {},
   "outputs": [
    {
     "data": {
      "text/plain": [
       "[['你是貓不是人！！！！！', '2019-12-17T17:29:23.307Z', 47, 2887],\n",
       " ['#神扯  用力把倉鼠擠到眼睛脫窗…（有影片與更新!）', '2019-12-17T16:44:59.203Z', 133, 1306],\n",
       " ['限時～同學你的貓綁架我了', '2019-12-18T07:14:00.442Z', 7, 313],\n",
       " ['為什麼讓別人覺得我虐待妳？', '2019-12-18T04:16:06.496Z', 10, 276],\n",
       " ['罐罐愛好者', '2019-12-18T01:26:31.004Z', 2, 178],\n",
       " ['忘記收回舌頭的一瞬間❤️', '2019-12-18T05:16:13.405Z', 15, 175],\n",
       " ['半夜上廁所被溫暖了', '2019-12-18T08:57:06.411Z', 1, 129],\n",
       " ['我的可愛你不得不愛', '2019-12-17T17:25:21.125Z', 4, 66],\n",
       " ['我被罵了', '2019-12-17T22:14:14.013Z', 1, 51],\n",
       " ['沒想到我也會被詐騙集團騙', '2019-12-18T15:18:30.688Z', 3, 48],\n",
       " ['狗狗🐶走失了已經8天了#新竹', '2019-12-18T10:58:32.070Z', 1, 41],\n",
       " ['剪頭髮變成貓奴', '2019-12-18T01:44:39.662Z', 1, 30],\n",
       " ['尷尬又不失禮貌的貓', '2019-12-17T17:34:13.494Z', 5, 28],\n",
       " ['原來我的腳這麼好吃', '2019-12-18T10:11:00.248Z', 2, 23],\n",
       " ['#圖 曬貓貓曬心情', '2019-12-17T16:48:23.519Z', 3, 23],\n",
       " ['（尋主人）東海大學撿到灰色倉鼠', '2019-12-18T13:36:47.175Z', 10, 22],\n",
       " ['鈴鐺球怎麼玩？', '2019-12-18T06:26:42.114Z', 5, 22],\n",
       " ['請大家幫幫忙還缺了14萬/公投結紮', '2019-12-17T15:42:53.597Z', 11, 22],\n",
       " ['失而復得', '2019-12-18T01:19:57.810Z', 2, 21],\n",
       " ['／文很長／全口拔牙-貓咪嗜酸性口炎治療', '2019-12-18T10:06:31.084Z', 2, 17],\n",
       " ['希望我的貓不會對氣麻過敏', '2019-12-18T04:46:56.211Z', 0, 17],\n",
       " ['什麼人養什麼鼠(⁎⁍̴̛ᴗ⁍̴̛⁎)', '2019-12-18T01:38:11.625Z', 4, 16],\n",
       " ['#圖 蝙蝠俠還是鞋貓', '2019-12-18T07:58:18.525Z', 3, 15],\n",
       " ['長得有點倒霉的貓🐱', '2019-12-18T03:25:43.131Z', 0, 14],\n",
       " ['狗狗走失 #台中太平', '2019-12-18T15:30:48.264Z', 1, 13],\n",
       " ['貓飼料品牌分享：莫比/紐頓/原點', '2019-12-18T05:55:26.953Z', 5, 13],\n",
       " ['我有一隻厭世臉貓貓', '2019-12-17T16:10:33.439Z', 0, 12],\n",
       " ['同學請停止你的動作', '2019-12-18T15:46:59.862Z', 0, 9],\n",
       " ['荷蘭貓咪', '2019-12-18T17:09:21.821Z', 1, 8],\n",
       " ['柴Shiba Di➕曼赤肯meow Miu 兄弟日常', '2019-12-18T07:30:20.007Z', 0, 8]]"
      ]
     },
     "execution_count": 2,
     "metadata": {},
     "output_type": "execute_result"
    }
   ],
   "source": [
    "# 2. 取出每一筆資料的「標題」、「貼文時間」、「留言人數」、「按讚人數」\n",
    "\n",
    "popular_list = []\n",
    "for p in popular:\n",
    "    popular_list.append([p['title'], p['createdAt'], p['commentCount'], p['likeCount']])\n",
    "popular_list"
   ]
  },
  {
   "cell_type": "code",
   "execution_count": 3,
   "metadata": {},
   "outputs": [
    {
     "name": "stdout",
     "output_type": "stream",
     "text": [
      "平均留言人數: 9.300000\n",
      "平均按讚人數: 193.433333\n"
     ]
    }
   ],
   "source": [
    "# 3. 計算熱門/非熱門文章的「平均留言人數」與「平均按讚人數」\n",
    "\n",
    "# Popular first 30 \n",
    "total_comments = 0\n",
    "total_likes = 0\n",
    "for p in popular:\n",
    "    total_comments += p['commentCount']\n",
    "    total_likes += p['likeCount']\n",
    "print('平均留言人數: %f' % (total_comments/len(popular)))\n",
    "print('平均按讚人數: %f' % (total_likes/len(popular)))"
   ]
  },
  {
   "cell_type": "code",
   "execution_count": 4,
   "metadata": {},
   "outputs": [
    {
     "name": "stdout",
     "output_type": "stream",
     "text": [
      "平均留言人數: 1.966667\n",
      "平均按讚人數: 8.000000\n"
     ]
    }
   ],
   "source": [
    "# Not Popular first 30 \n",
    "r = requests.get('https://www.dcard.tw/_api/forums/pet/posts?popular=false')\n",
    "response = r.text\n",
    "datas = json.loads(response)\n",
    "\n",
    "total_comments = 0\n",
    "total_likes = 0\n",
    "for d in datas:\n",
    "    total_comments += d['commentCount']\n",
    "    total_likes += d['likeCount']\n",
    "print('平均留言人數: %f' % (total_comments/len(datas)))\n",
    "print('平均按讚人數: %f' % (total_likes/len(datas)))"
   ]
  }
 ],
 "metadata": {
  "kernelspec": {
   "display_name": "Python 3",
   "language": "python",
   "name": "python3"
  },
  "language_info": {
   "codemirror_mode": {
    "name": "ipython",
    "version": 3
   },
   "file_extension": ".py",
   "mimetype": "text/x-python",
   "name": "python",
   "nbconvert_exporter": "python",
   "pygments_lexer": "ipython3",
   "version": "3.7.3"
  }
 },
 "nbformat": 4,
 "nbformat_minor": 2
}
