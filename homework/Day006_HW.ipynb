{
 "cells": [
  {
   "cell_type": "markdown",
   "metadata": {},
   "source": [
    "# API 資料串接 - 以 知乎 API 實作範例\n",
    "\n",
    "\n",
    "\n",
    "* 了解知乎 API 使用方式與回傳內容\n",
    "* 撰寫程式存取 API 且添加標頭\n",
    "\n",
    "\n"
   ]
  },
  {
   "cell_type": "markdown",
   "metadata": {},
   "source": [
    "## 作業目標\n",
    "\n",
    "* 根據範例提供的 API ，完成以下問題：\n",
    "\n",
    "    1. 取出知乎問題發問時間\n",
    "    2. 取出第一筆與最後一筆回答的時間\n"
   ]
  },
  {
   "cell_type": "markdown",
   "metadata": {},
   "source": [
    "### 1. 取出知乎問題發問時間"
   ]
  },
  {
   "cell_type": "code",
   "execution_count": 1,
   "metadata": {},
   "outputs": [],
   "source": [
    "import requests\n",
    "import json\n",
    "headers = {'user-agent': 'my-app/0.0.1'}\n",
    "r = requests.get('https://www.zhihu.com/api/v4/questions/55493026/answers',headers=headers)\n",
    "response = r.text\n",
    "\n",
    "data = json.loads(response)"
   ]
  },
  {
   "cell_type": "code",
   "execution_count": 2,
   "metadata": {},
   "outputs": [
    {
     "name": "stdout",
     "output_type": "stream",
     "text": [
      "知乎問題發問時間: 2017-02-06 22:10:29+08:00\n"
     ]
    }
   ],
   "source": [
    "import datetime\n",
    "import pytz\n",
    "unix_ts = data['data'][0]['question']['created']\n",
    "tz = pytz.timezone('Asia/Taipei')\n",
    "create_time = datetime.datetime.fromtimestamp(unix_ts, tz)\n",
    "print('知乎問題發問時間: %s'% create_time)"
   ]
  },
  {
   "cell_type": "markdown",
   "metadata": {},
   "source": [
    "### 2. 取出第一筆與最後一筆回答的時間"
   ]
  },
  {
   "cell_type": "code",
   "execution_count": 3,
   "metadata": {},
   "outputs": [
    {
     "name": "stdout",
     "output_type": "stream",
     "text": [
      "  第一筆回答時間: 2017-02-07 09:12:49+08:00\n",
      "最後一筆回答時間: 2019-05-14 17:00:12+08:00\n"
     ]
    }
   ],
   "source": [
    "# 2. 取出第一筆與最後一筆回答的時間\n",
    "\n",
    "# last \n",
    "r = requests.get('https://www.zhihu.com/api/v4/questions/55493026/answers?sort_by=created',headers=headers)\n",
    "response = r.text\n",
    "\n",
    "last = json.loads(response)\n",
    "last_answer = data['data'][0]['created_time']\n",
    "last_create_time = datetime.datetime.fromtimestamp(last_answer, tz)\n",
    "\n",
    "# 總比數\n",
    "total = data['paging']['totals']\n",
    "\n",
    "# first\n",
    "r = requests.get('https://www.zhihu.com/api/v4/questions/55493026/answers?limit=1&offset=%s&sort_by=created' % (total-1),headers=headers)\n",
    "response = r.text\n",
    "first = json.loads(response)\n",
    "\n",
    "first_answer = first['data'][0]['created_time']\n",
    "first_create_time = datetime.datetime.fromtimestamp(first_answer, tz)\n",
    "\n",
    "print('  第一筆回答時間: %s'% first_create_time)\n",
    "print('最後一筆回答時間: %s'% last_create_time)"
   ]
  }
 ],
 "metadata": {
  "kernelspec": {
   "display_name": "Python 3",
   "language": "python",
   "name": "python3"
  },
  "language_info": {
   "codemirror_mode": {
    "name": "ipython",
    "version": 3
   },
   "file_extension": ".py",
   "mimetype": "text/x-python",
   "name": "python",
   "nbconvert_exporter": "python",
   "pygments_lexer": "ipython3",
   "version": "3.7.3"
  }
 },
 "nbformat": 4,
 "nbformat_minor": 2
}
