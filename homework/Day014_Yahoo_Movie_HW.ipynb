{
 "cells": [
  {
   "cell_type": "markdown",
   "metadata": {},
   "source": [
    "# YAHOO電影爬蟲練習\n",
    "## 練習爬取電影放映資訊。必須逐步獲取電影的代號、放映地區、放映日期後，再送出查詢給伺服器。"
   ]
  },
  {
   "cell_type": "code",
   "execution_count": 1,
   "metadata": {},
   "outputs": [],
   "source": [
    "import requests\n",
    "import re\n",
    "from bs4 import BeautifulSoup"
   ]
  },
  {
   "cell_type": "markdown",
   "metadata": {},
   "source": [
    "### 先搜尋全部的電影代號(ID)資訊"
   ]
  },
  {
   "cell_type": "code",
   "execution_count": 2,
   "metadata": {},
   "outputs": [
    {
     "name": "stdout",
     "output_type": "stream",
     "text": [
      "Movie: 海上鋼琴師4K數位修復, ID: 10425\n",
      "Movie: 鹿皮奇談, ID: 10420\n",
      "Movie: 大約在冬季, ID: 10408\n",
      "Movie: 倒數計死, ID: 10390\n",
      "Movie: 吹哨人, ID: 10381\n",
      "Movie: 幸福試用期, ID: 10374\n",
      "Movie: 竊竊屍語, ID: 10365\n",
      "Movie: 舞力決戰, ID: 10344\n",
      "Movie: 潛艦追緝, ID: 10333\n",
      "Movie: 霹靂嬌娃, ID: 10124\n",
      "Movie: 白頭山：半島浩劫, ID: 10354\n",
      "Movie: CATS貓, ID: 10166\n",
      "Movie: 金魚, ID: 10424\n",
      "Movie: 海上花, ID: 10376\n",
      "Movie: 奪魂露營車, ID: 10366\n",
      "Movie: 怨靈古堡, ID: 10356\n",
      "Movie: 添好孕, ID: 10332\n",
      "Movie: 外出偷馬, ID: 10310\n",
      "Movie: 茱蒂, ID: 10112\n",
      "Movie: 燃燒女子的畫像, ID: 10069\n",
      "Movie: 葉問4：完結篇, ID: 9890\n",
      "Movie: STAR WARS : 天行者的崛起, ID: 10225\n",
      "Movie: 復仇母親, ID: 10392\n",
      "Movie: 風暴過後, ID: 10387\n",
      "Movie: 南方車站的聚會, ID: 10380\n",
      "Movie: 祭旗, ID: 10373\n",
      "Movie: 黑熊來了, ID: 10357\n",
      "Movie: 黑計畫, ID: 10351\n",
      "Movie: HUMAN LOST人間失格, ID: 10348\n",
      "Movie: 假面騎士劇場版ZI-O Over Quartzer, ID: 10331\n",
      "Movie: 每個月來訪一次的月經醬, ID: 10324\n",
      "Movie: 8級警戒, ID: 10323\n",
      "Movie: 為你存在的每一天, ID: 10297\n",
      "Movie: 黑色聖誕節, ID: 10291\n",
      "Movie: 熱氣球飛行家, ID: 10257\n",
      "Movie: 大說謊家, ID: 10122\n",
      "Movie: 特約經紀公司, ID: 10364\n",
      "Movie: 花生醬獵鷹的願望, ID: 10340\n",
      "Movie: 人間失格：太宰治與他的3個女人, ID: 10287\n",
      "Movie: 呆萌特務, ID: 10264\n",
      "Movie: 去年聖誕節, ID: 10256\n",
      "Movie: 野蠻遊戲：全面晉級, ID: 10134\n",
      "Movie: 夕霧花園, ID: 10327\n",
      "Movie: 鋒迴路轉, ID: 10258\n",
      "Movie: 賽道狂人, ID: 10097\n",
      "Movie: 女神們的下午茶, ID: 10314\n",
      "Movie: 82年生的金智英, ID: 10298\n",
      "Movie: 冰雪奇緣2, ID: 9597\n",
      "Movie: Hello World, ID: 10302\n",
      "Movie: 萬萬沒想到, ID: 10281\n",
      "Movie: 為美好的世界獻上祝福！紅傳說, ID: 10226\n",
      "Movie: 重甲機神：神降臨, ID: 10290\n",
      "Movie: 決戰中途島, ID: 10130\n",
      "Movie: 紫羅蘭永恆花園外傳－永遠與自動手記人偶－, ID: 10292\n",
      "Movie: 陽光普照, ID: 10240\n",
      "Movie: 傻傻愛你，傻傻愛我, ID: 10075\n",
      "Movie: 狙擊獵殺：救援行動, ID: 10284\n",
      "Movie: 金翅雀, ID: 10072\n",
      "Movie: 雙子殺手, ID: 10017\n",
      "Movie: 盲人律師, ID: 10267\n",
      "Movie: 海獸之子, ID: 10263\n",
      "Movie: 電影版 壞傢伙們, ID: 10249\n",
      "Movie: 江湖無難事, ID: 10241\n",
      "Movie: 仙戒奇緣, ID: 10211\n",
      "Movie: 藍波：最後一滴血, ID: 10205\n",
      "Movie: 屍樂園：髒比雙拼, ID: 10176\n",
      "Movie: 弒婚遊戲, ID: 10171\n",
      "Movie: 108悍將, ID: 10238\n",
      "Movie: 壞壞萌雪怪, ID: 10065\n",
      "Movie: 小丑, ID: 9949\n",
      "Movie: 教父II, ID: 10289\n",
      "Movie: 瞞天機密, ID: 10206\n",
      "Movie: 校外打怪教學, ID: 10200\n",
      "Movie: 返校, ID: 10109\n",
      "Movie: 唐頓莊園, ID: 10064\n",
      "Movie: 衝擊真相, ID: 10215\n",
      "Movie: 舞孃騙很大, ID: 10199\n",
      "Movie: 好小男孩, ID: 9894\n",
      "Movie: 大叔之愛電影版, ID: 10136\n",
      "Movie: 牠 第二章, ID: 10042\n",
      "Movie: 極限逃生, ID: 10174\n",
      "Movie: 全面攻佔3：天使救援, ID: 10082\n",
      "Movie: 普羅米亞, ID: 10119\n",
      "Movie: 憤怒鳥玩電影2：冰的啦, ID: 10002\n",
      "Movie: 獅子王, ID: 9116\n",
      "Movie: 玩具總動員4, ID: 9924\n",
      "Movie: 毀滅者, ID: 9405\n",
      "Movie: 庫爾斯克號：深海救援, ID: 9134\n",
      "Movie: 厄夜追緝令, ID: 9589\n",
      "Movie: 苦兒流浪記, ID: 9538\n",
      "Movie: 活個精彩, ID: 9394\n",
      "Movie: 限時好友, ID: 9578\n",
      "Movie: 祝你忌日快樂, ID: 9568\n",
      "Movie: 艾莉塔：戰鬥天使, ID: 8553\n",
      "Movie: 馴龍高手3, ID: 8350\n",
      "Movie: 幸福綠皮書, ID: 9150\n",
      "Movie: 今生情未了, ID: 7498\n",
      "Movie: 一首搖滾上月球, ID: 4887\n",
      "Movie: 錢不夠用2, ID: 3026\n"
     ]
    }
   ],
   "source": [
    "# 查看目前上映那些電影，並擷取出其ID資訊\n",
    "url = 'https://movies.yahoo.com.tw/'\n",
    "resp = requests.get(url)\n",
    "resp.encoding = 'utf-8'\n",
    "\n",
    "soup = BeautifulSoup(resp.text, 'lxml')\n",
    "html = soup.find(\"select\", attrs={'name':'movie_id'})\n",
    "movie_item = html.find_all(\"option\", attrs={'data-name':re.compile('.*')})\n",
    "\n",
    "for p in movie_item:\n",
    "    print(\"Movie: %s, ID: %s\" % (p[\"data-name\"], p[\"value\"]))"
   ]
  },
  {
   "cell_type": "markdown",
   "metadata": {},
   "source": [
    "### 指定你有興趣的電影其ID，然後查詢其放映地區資訊。"
   ]
  },
  {
   "cell_type": "code",
   "execution_count": 3,
   "metadata": {},
   "outputs": [],
   "source": [
    "# 參考前一個步驟中擷取到的ID資訊，並指定ID\n",
    "movie_id = 10292"
   ]
  },
  {
   "cell_type": "code",
   "execution_count": 4,
   "metadata": {},
   "outputs": [
    {
     "name": "stdout",
     "output_type": "stream",
     "text": [
      "放映地區: 桃園, 代號(area_id): 16\n"
     ]
    }
   ],
   "source": [
    "url = 'https://movies.yahoo.com.tw/api/v1/areas_by_movie_theater'\n",
    "payload = {'movie_id':str(movie_id)}\n",
    "\n",
    "# 模擬一個header\n",
    "headers = {\n",
    "    'authority': 'movies.yahoo.com.tw',\n",
    "    'method': 'GET',\n",
    "    'path': '/api/v1/areas_by_movie_theater?movie_id=' + str(movie_id),\n",
    "    'scheme': 'https',\n",
    "    'accept': 'application/json, text/javascript, */*; q=0.01',\n",
    "    'accept-encoding': 'gzip, deflate, br',\n",
    "    'accept-language': 'zh-TW,zh;q=0.9,en-US;q=0.8,en;q=0.7,zh-CN;q=0.6',\n",
    "    'cookie': 'rxx=9s3x2fws06.1g16irnc&v=1; _ga=GA1.3.2056742944.1551651301; GUC=AQEBAQFczFpdm0IfmwSB&s=AQAAACoo4N5D&g=XMsVBw; BX=4hkdk1decm57t&b=3&s=mr; _ga=GA1.4.2056742944.1551651301; nexagesuid=82843256dd234e8e91aa73f2062f8218; browsed_movie=eyJpdiI6IlJXWWtiSWJaZlNGK2MxQnhscnVUYWc9PSIsInZhbHVlIjoiMXRhMmVHRXRIeUNjc1RBWDJzdGYwbnlIQURmWGsrcjJSMzhkbkcraDNJVUNIZEZsbzU3amlFcVZ1NzlmazJrTGpoMjVrbHk1YmpoRENXaHZTOUw1TmI2ZTZVWHdOejZQZm16RmVuMWlHTTJLaTZLVFZZVkFOMDlTd1wvSGltcytJIiwibWFjIjoiZWQ2ZjA4MmVjZmZlYjlmNjJmYmY2NGMyMDI0Njc0NWViYjVkOWE2NDg0N2RhODMxZjBjZDhiMmJhZTc2MDZhYiJ9; avi=eyJpdiI6Im1NeWFJRlVRWDR1endEcGRGUGJUbVE9PSIsInZhbHVlIjoickRpU3JuUytmcGl6cjF5OW0rNU9iZz09IiwibWFjIjoiY2VmY2NkNzZmM2NhNjY5YzlkOTcyNjE5OGEyMzU0NWYxOTdmMDRkMDY3OWNmMmZjOTMxYjc5MjI5N2Q5NGE5MiJ9; cmp=t=1559391030&j=0; _gid=GA1.4.779543841.1559391031; XSRF-TOKEN=eyJpdiI6IkhpS2hGcDRQaHlmWUJmaHdSS2Q2bHc9PSIsInZhbHVlIjoiOUVoNFk4OHI1UUZmUWRtYXhza0MyWjJSTlhlZ3RnT0VGeVJPN2JuczVRMGRFdWt2OUlsamVKeHRobFwvcHBGM0dhU3VyMXNGTHlsb2dVM2l0U1hpUGxBPT0iLCJtYWMiOiJkZWU4YzJhNjAxMTY3MzE4Y2ExNWIxYmE1ZjE1YWZlZTlhOTcyYjc4M2RlZGY4ZWNjZDYyMTA2NGYwZGViMzc2In0%3D; m_s=eyJpdiI6InpsZHZ2Tk1BZ0dxaHhETml1RjBnUXc9PSIsInZhbHVlIjoiSkNGeHUranRoXC85bDFiaDhySTJqNkJRcWdjWUxjeVRJSHVYZ1wvd2d4bWJZUTUrSHVDM0lUcW5KNHdETFZ4T1lieU81OUhzc1VoUXhZcWk0UDZSQXVFdz09IiwibWFjIjoiYmJkMDJkMDhlODIzMzcyMWY4M2NmYWNjNGVlOWRjMDIwZmVmNzAyMjE3Yzg3ZGY3ODBkZWEzZTI4MTI5ZWNmOSJ9; _gat=1; nexagesd=10',\n",
    "    'dnt': '1',\n",
    "    'mv-authorization': '21835b082e15b91a69b3851eec7b31b82ce82afb',\n",
    "    'referer': 'https://movies.yahoo.com.tw/',\n",
    "    'user-agent': 'Mozilla/5.0 (Windows NT 10.0; Win64; x64) AppleWebKit/537.36 (KHTML, like Gecko) Chrome/74.0.3729.169 Safari/537.36',\n",
    "    'x-requested-with': 'XMLHttpRequest',\n",
    "}\n",
    "    \n",
    "resp = requests.get(url, params=payload, headers=headers)\n",
    "#print(resp.json())  # 若有需要，列印出json原始碼\n",
    "\n",
    "# 這裡回傳的格式是JSON格式的資料，要解析JSON擷取資料\n",
    "for p in resp.json():\n",
    "    print('放映地區: {0}, 代號(area_id): {1}'.format(p['title'], p['area_id']))"
   ]
  },
  {
   "cell_type": "markdown",
   "metadata": {},
   "source": [
    "### 指定你想要觀看的放映地區，查詢有上映電影的場次日期"
   ]
  },
  {
   "cell_type": "code",
   "execution_count": 5,
   "metadata": {},
   "outputs": [],
   "source": [
    "# 指定放映地區\n",
    "area_id = 16"
   ]
  },
  {
   "cell_type": "code",
   "execution_count": 6,
   "metadata": {},
   "outputs": [
    {
     "name": "stdout",
     "output_type": "stream",
     "text": [
      "十二月 30\n",
      "十二月 31\n",
      "一月 1\n",
      "一月 2\n",
      "一月 3\n"
     ]
    }
   ],
   "source": [
    "# 向網站發送請求\n",
    "url = 'https://movies.yahoo.com.tw/movietime_result.html'\n",
    "payload = {'movie_id':str(movie_id), 'area_id':str(area_id)}\n",
    "resp = requests.get(url, params=payload)\n",
    "resp.encoding = 'utf-8'\n",
    "\n",
    "soup = BeautifulSoup(resp.text, 'lxml')\n",
    "movie_date = soup.find_all(\"label\", attrs={'for':re.compile(\"date_[\\d]\")})\n",
    "\n",
    "# 列印播放日期\n",
    "for date in movie_date:\n",
    "    print(\"%s %s\" % (date.p.string, date.h3.string))"
   ]
  },
  {
   "cell_type": "markdown",
   "metadata": {},
   "source": [
    "### 最後指定觀看的日期，查詢並列印出放映的電影院、放映類型(數位、3D、IMAX 3D...)、放映時間等資訊。"
   ]
  },
  {
   "cell_type": "code",
   "execution_count": 7,
   "metadata": {},
   "outputs": [],
   "source": [
    "# 選定要觀看的日期\n",
    "date = \"2019-12-31\""
   ]
  },
  {
   "cell_type": "code",
   "execution_count": 8,
   "metadata": {},
   "outputs": [],
   "source": [
    "# 向網站發送請求，獲取上映的電影院及時間資訊\n",
    "url = \"https://movies.yahoo.com.tw/ajax/pc/get_schedule_by_movie\"\n",
    "payload = {'movie_id':str(movie_id),\n",
    "           'date':date,\n",
    "           'area_id':str(area_id),\n",
    "           'theater_id':'',\n",
    "           'datetime':'',\n",
    "           'movie_type_id':''}\n",
    "\n",
    "resp = requests.get(url, params=payload)\n",
    "#print(resp.json()['view'])  # 若有需要，列印出json原始碼\n",
    "\n",
    "soup = BeautifulSoup(resp.json()['view'], 'lxml')\n",
    "html = soup.find_all(\"ul\", attrs={'data-theater_name':re.compile(\".*\")})"
   ]
  },
  {
   "cell_type": "code",
   "execution_count": 9,
   "metadata": {},
   "outputs": [
    {
     "name": "stdout",
     "output_type": "stream",
     "text": [
      "電影院名稱\t放映類型\t放映時間\n",
      "桃園統領威秀影城\t數位\t2019-12-31 13:00:00\n"
     ]
    }
   ],
   "source": [
    "# 試著從上一步驟回傳的電影院資料中，擷取電影院名稱、影片放映類型以及時間表\n",
    "print('電影院名稱\\t放映類型\\t放映時間')\n",
    "for theater in html:\n",
    "    theater_name = theater.find('a').text\n",
    "    movie = theater.find_all('input')\n",
    "    for m in movie:\n",
    "        movie_type = m.get('data-movie_type')\n",
    "        movie_time = m.get('value')\n",
    "        print(f'{theater_name}\\t{movie_type}\\t{movie_time}')"
   ]
  },
  {
   "cell_type": "markdown",
   "metadata": {},
   "source": [
    "### 爬取電影資料：電影名稱、期待度、滿意度、簡介等等"
   ]
  },
  {
   "cell_type": "code",
   "execution_count": 10,
   "metadata": {},
   "outputs": [],
   "source": [
    "url = f'https://movies.yahoo.com.tw/movieinfo_main/{movie_id}'\n",
    "resp = requests.get(url, params=payload)\n",
    "resp.encoding = 'utf-8'\n",
    "soup = BeautifulSoup(resp.text, 'lxml')"
   ]
  },
  {
   "cell_type": "code",
   "execution_count": 11,
   "metadata": {},
   "outputs": [],
   "source": [
    "movie_info_list = {}\n",
    "movie_info = soup.find('div', attrs={'class':'movie_intro_info_r'})\n",
    "movie_name = movie_info.h1.text\n",
    "movie_name_e = movie_info.h3.text\n",
    "movie_date = movie_info.find_all('span')[0]\n",
    "movie_time = movie_info.find_all('span')[1]\n",
    "movie_imdb = movie_info.find_all('span')[3]\n",
    "movie_intro= soup.find_all('div', attrs={'class':'movie_intro_list'})\n",
    "movie_dirctor = movie_intro[0].text.replace('  ', '').replace('\\n', '')\n",
    "movie_actors = movie_intro[1].text.replace('  ', '').replace('\\n', '')\n",
    "expectation = soup.find_all('div','circlenum')[0].span.text\n",
    "satisfaction = soup.find_all('div','score_num count')[0].text\n",
    "story = soup.find(id='story').text"
   ]
  },
  {
   "cell_type": "code",
   "execution_count": 12,
   "metadata": {},
   "outputs": [
    {
     "name": "stdout",
     "output_type": "stream",
     "text": [
      "電影名稱: 紫羅蘭永恆花園外傳－永遠與自動手記人偶－\n",
      "電影名稱(英): Violet Evergarden - Eternity and the Auto Memory Doll -\n",
      "上映日期: <span>上映日期：2019-11-01</span>\n",
      "片長: <span>片　　長：01時30分</span>\n",
      "IMDb分數: <span>IMDb分數：8.2</span>\n",
      "導演: 藤田春香\n",
      "演員: 石川由依(Yui Ishikawa)、壽美菜子、悠木碧、子安武人、内山昂輝、遠藤綾、茅原實里、戶松遙(Haruka Tomatsu)\n",
      "期待度: 97%\n",
      "滿意度: 4.6\n",
      "劇情介紹: \n",
      "            ★「京都動畫」虐心打造，催淚更勝《電影版聲之形》！\r\n",
      "★ 集結石川由依、壽美菜子、悠木碧等超人氣聲優陣容擔綱配音！\r\n",
      "★ 全台動畫迷爭相傳頌「人類聖經」、「宇宙神作」的感人物語！\r\n",
      "★ 一位對活著感到絕望的少女，一段找到「永恆」的感動故事！\r\n",
      "★ 京都動畫大賞輕小說獲獎作品改編，充滿人情味的暖心感動新篇章！\r\n",
      "★ 全新角色登場，女主角薇爾莉特的嶄新造型，勢必讓觀眾驚艷連連！\r\n",
      "★ 美不勝收的場面、扣人心弦的故事，唯美悠揚的音樂，聲優精湛的表現！\r\n",
      "★ 人氣聲優茅原實里擔任配音，並優揚獻唱量身打造專屬主題曲〈艾咪〉！\r\n",
      "★ 日本上映10天，票房勇破1.4億台幣，觀眾力讚：「滿滿的催淚感動！」\r\n",
      " \r\n",
      "為了守護重要的事物，我把我的未來給賣了…\r\n",
      "一間盛開著白色山茶花的女子貴族學校，但看在伊莎貝拉約克（壽美菜子配音）眼中，這個以高牆隔絕外界的校園，就彷彿是「牢籠」般的存在…。這時，提供「自動手記人偶」服務的薇爾莉特伊芙加登（石川由依配音），受到約克家雇用，來到這所校園，協助她在社交圈的首次亮相能夠圓滿成功。然而這位陷入絕望的少女，似乎有一段埋藏在心中的過去。究竟，薇爾莉特將如何為她敞開心扉呢？\r\n",
      " \r\n",
      "【關於電影】\r\n",
      " \r\n",
      "「京都動畫」虐心打造，催淚更勝《電影版聲之形》！ \r\n",
      "《紫羅蘭永恆花園》由日本知名優質動畫品牌「京都動畫」打造，改編自曉佳奈創作、榮獲第5屆京都動畫大獎的輕小說作品，也是京都動畫大獎有史以來，唯一獲得「大賞獎」的作品（其餘幾屆的大賞獎都從缺）。本作女主角「薇爾莉特伊芙加登」，是位擁有金髮藍眼的美麗少女。身為孤兒的她，父母、年紀不詳，然而與她美貌相反的，是她那罕見的戰鬥能力。也因為她在戰爭時期的強大戰力，讓她被軍中同袍無視為人類，反而視為「武器」般的存在。之後因為戰爭失去雙手，薇爾莉特離開軍隊，並裝上義肢，開始在C·H郵政社擔任起「自動手記人偶」的代筆工作。這位像人偶般清澈無暇、沒有多餘感情少女，為了想要理解當時戰場上重要之人，對她所要傳達的話語，她不斷前往各地，踏上一段尋找何謂「愛」的旅程。透過一次次為不同委託人工作，她與各式各樣的人們相遇，並將對方無法言說的話語，或是綿密的思念，化作一封又一封的書信，將重要之言給投遞出去。她也從這些人身上，逐漸學會人與人之間的相處與情感，並逐漸開始懂得什麼是「愛」…。\r\n",
      " \r\n",
      "電視動畫於2018年1月10日起播出，一播出就引發極大轟動與討論，甚至被網友高度讚譽為「人類聖經」、「宇宙神作」。尤其電視動畫以劇場版的製作品質來打造，也再度證明京都動畫的誠意與製作實力。也因為電視動畫的轟動，讓製作團隊繼續在2019年推出劇場版動畫《紫羅蘭永恆花園外傳－永遠與自動手記人偶－》。故事將延續電視動畫的架構，以全新故事內容，透過一位陷入絕望的少女「伊莎貝拉」展開，並將舞台設定在一所被她視為「牢籠」的女子貴族學校。薇爾莉特這回將化身訓練師，一方面要協助她可以圓滿在社交圈首次亮相，另方面還要幫她敞開封閉的心扉，甚至牽起一段埋藏在伊莎貝拉心中的遺憾過往。\r\n",
      " \r\n",
      "透過京都動畫美不勝收的作畫品質、原著作者曉佳奈扣人心弦的故事、唯美悠揚的音樂，以及石川由依、壽美菜子、悠木碧等人氣聲優們的精湛配音表現，為觀眾帶來充滿人情味的暖心感動！值得一提的是，本片不僅有全新角色登場，女主角薇爾莉特更將以有別於電視動畫的嶄新服裝造型亮相，勢必讓觀眾驚艷連連！這也讓本片在日本上映10天，就勇破1.4億台幣票房佳績。觀眾更在觀賞後力讚：「內斂又細緻的感動！」「慢慢堆疊到最後，讓我在最後流下感動的淚水！」「催淚更勝《電影版聲之形》！」如今本片終於在台灣絲的千呼萬喚之下，確定將在11月1日於全台感動獻映。\r\n",
      " \n",
      "          \n"
     ]
    }
   ],
   "source": [
    "movie_info_list['電影名稱']= movie_name\n",
    "movie_info_list['電影名稱(英)'] = movie_name_e\n",
    "movie_info_list['上映日期']=movie_date\n",
    "movie_info_list['片長']=movie_time\n",
    "movie_info_list['IMDb分數']=movie_imdb\n",
    "movie_info_list['導演']=movie_dirctor\n",
    "movie_info_list['演員']=movie_actors\n",
    "movie_info_list['期待度']=f'{expectation}%'\n",
    "movie_info_list['滿意度']=satisfaction\n",
    "movie_info_list['劇情介紹'] = story\n",
    "for m in movie_info_list:\n",
    "    print(f'{m}: {movie_info_list[m]}')"
   ]
  }
 ],
 "metadata": {
  "kernelspec": {
   "display_name": "Python 3",
   "language": "python",
   "name": "python3"
  },
  "language_info": {
   "codemirror_mode": {
    "name": "ipython",
    "version": 3
   },
   "file_extension": ".py",
   "mimetype": "text/x-python",
   "name": "python",
   "nbconvert_exporter": "python",
   "pygments_lexer": "ipython3",
   "version": "3.7.3"
  }
 },
 "nbformat": 4,
 "nbformat_minor": 2
}
