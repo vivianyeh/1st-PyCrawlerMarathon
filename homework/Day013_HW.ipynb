{
 "cells": [
  {
   "cell_type": "markdown",
   "metadata": {},
   "source": [
    "# PTT 網路爬蟲實作練習\n",
    "\n",
    "\n",
    "* 能夠利用 Request + BeatifulSour 撰寫爬蟲，並存放到合適的資料結構\n"
   ]
  },
  {
   "cell_type": "markdown",
   "metadata": {},
   "source": [
    "## 作業目標\n",
    "\n",
    "根據範例 ，完成以下問題：\n",
    "\n",
    "* ① 印出最新文章的「作者」「標題」「時間」\n",
    "* ② 印出第一頁所有文章的「作者」「標題」「時間」\n"
   ]
  },
  {
   "cell_type": "code",
   "execution_count": 1,
   "metadata": {},
   "outputs": [],
   "source": [
    "import requests\n",
    "from bs4 import BeautifulSoup"
   ]
  },
  {
   "cell_type": "markdown",
   "metadata": {},
   "source": [
    "### ① 印出最新文章的「作者」「標題」「時間」"
   ]
  },
  {
   "cell_type": "code",
   "execution_count": 2,
   "metadata": {},
   "outputs": [
    {
     "name": "stdout",
     "output_type": "stream",
     "text": [
      "作者：namie810303\n",
      "標題：[公告] shellback = benson1212 水桶三年\n",
      "時間：12/25\n"
     ]
    }
   ],
   "source": [
    "url = 'https://www.ptt.cc/bbs/NBA/index.html'\n",
    "r = requests.get(url)\n",
    "soup = BeautifulSoup(r.text, \"lxml\")\n",
    "title = soup.find(class_='title').find('a').text\n",
    "date = soup.find(class_='date').text\n",
    "author =soup.find(class_='author').text\n",
    "print(f'作者：{author}\\n標題：{title}\\n時間：{date}')"
   ]
  },
  {
   "cell_type": "markdown",
   "metadata": {},
   "source": [
    "### ② 印出第一頁所有文章的「作者」「標題」「時間」"
   ]
  },
  {
   "cell_type": "code",
   "execution_count": 3,
   "metadata": {},
   "outputs": [
    {
     "name": "stdout",
     "output_type": "stream",
     "text": [
      "作者\t標題\t時間\n",
      "namie810303 (NBA)\t[公告] shellback = benson1212 水桶三年\tWed Dec 25 18:46:36 2019\n",
      "lovea (lovea)\t[新聞] 帕森斯災難合約將到期 盼循哈沃德模式尋\tWed Dec 25 18:56:26 2019\n",
      "thnlkj0665 (灰色地帶)\t[花邊] 暴龍鐵粉送上耶誕大禮 助癌末球迷圓見詹皇夢\tWed Dec 25 19:46:04 2019\n",
      "Vedan (味丹)\t[公告] 樂透取消及未來不再開啟樂透\tMon Jun 24 15:08:02 2019\n",
      "qazwsx879345 (Rajon Rondo)\t[公告] 版主上任相關事項\tFri Oct 25 10:44:03 2019\n",
      "JerroLi (銀色小刀)\t[情報] SEASON Schedule 賽程 December 19–20\tFri Nov 29 00:46:01 2019\n"
     ]
    }
   ],
   "source": [
    "print('作者\\t標題\\t時間')\n",
    "for a in soup.find_all(class_='title'):\n",
    "    try:\n",
    "        title = a.find('a').text\n",
    "        link = 'https://www.ptt.cc'+a.find('a')['href']\n",
    "        req = requests.get(link)\n",
    "        soup2 = BeautifulSoup(req.text, 'lxml')\n",
    "        article_value = soup2.find_all(class_ = 'article-meta-value')\n",
    "        author = article_value[0].text\n",
    "        title = article_value[2].text\n",
    "        datetime = article_value[3].text\n",
    "        print(f'{author}\\t{title}\\t{datetime}')\n",
    "    except:\n",
    "        continue"
   ]
  },
  {
   "cell_type": "markdown",
   "metadata": {},
   "source": [
    "### ③ 試著爬爬看其他版的文章"
   ]
  },
  {
   "cell_type": "code",
   "execution_count": 4,
   "metadata": {},
   "outputs": [
    {
     "name": "stdout",
     "output_type": "stream",
     "text": [
      "作者\t標題\t時間\n",
      "azoy4y11 (Ken924)\t[雷] 葉問4\tWed Dec 25 16:56:03 2019\n",
      "pengkuan2011 ()\t[請益] 愛情故事該不該看\tWed Dec 25 17:09:41 2019\n",
      "qscwdvefb (@@)\t[Live] 魔戒三部曲 HBO 18:05～03:15\tWed Dec 25 17:10:46 2019\n",
      "hvariables (Speculative Male)\t[新聞] 《葉問4》今破7千萬！混血正妹身分曝光\tWed Dec 25 17:15:17 2019\n",
      "chirex (去吧~小智)\t[新聞] 粉絲都是對的！《星戰 9》導演 J.J. 亞伯\tWed Dec 25 17:15:48 2019\n",
      "NuCat (騎山豬撞教官)\tRe: [負雷] 葉問4, 老梗老梗老梗~~~~~是請不到編\tWed Dec 25 17:58:11 2019\n",
      "chenlin97t (lee1016)\t[普雷] 白頭山觀感\tWed Dec 25 18:19:41 2019\n",
      "f22313467 (軍曹)\t[討論] 魔戒看完整版會比較好看嗎？\tWed Dec 25 18:30:24 2019\n",
      "marbu (marbu這樣我就買了orient)\tRe: [討論] Myvideo 2019電影排行榜 居然沒國片？\tWed Dec 25 18:31:18 2019\n",
      "JerianGrant (Jerian Grant)\t[新聞] 甄子丹點名謝霆鋒、張晉接棒！\tWed Dec 25 18:33:30 2019\n",
      "CYKONGG (CYKONGG)\t[新聞] 2020滿滿萊恩雷諾斯　《殺手保鑣2》更賤\tWed Dec 25 18:55:07 2019\n",
      "MoDoHiYaKu (在座的各位都是垃圾)\t[雷] 葉問4 士官長\tWed Dec 25 18:55:53 2019\n",
      "orz44444 (陰人不應該向陽人裝熟~~)\t[新聞] 年度最賺與最賠影片「復仇者聯盟」、「雙子殺手」等\tWed Dec 25 19:38:19 2019\n",
      "kkaicd1 (夏天的熱浪)\t[新聞]【茱蒂】力挺同志族群,山姆史密斯致敬獻聲\tWed Dec 25 20:38:06 2019\n",
      "sea130281 (都顯示帳號要暱稱幹嘛)\t[討論] 葉問這一系列電影是不是中國人自慰??\tWed Dec 25 20:59:27 2019\n",
      "ckshchen (尖酸苛博文)\t[公告] 暫定版規。歡迎討論，一個月後定案\tTue Jun  4 09:24:15 2019\n",
      "hhwang (雪野)\t[公告] 板規新增每日發文上限規定\tThu Aug 15 15:57:10 2019\n",
      "kai3368 (人間失格待宰彘)\tFw: [公告] 請使用安全的連線方式連線本站\tSun Nov 24 17:24:56 2019\n",
      "hhwang (雪野)\t[公告] 獎季發文限制放寬\tTue Dec 17 14:56:33 2019\n",
      "kai3368 (人間失格待宰彘)\t[公告] 請注意發文格式 標題不要爆雷\tMon Dec 23 14:40:36 2019\n"
     ]
    }
   ],
   "source": [
    "# movie版\n",
    "url = 'https://www.ptt.cc/bbs/movie/index.html'\n",
    "r = requests.get(url)\n",
    "soup = BeautifulSoup(r.text, \"lxml\")\n",
    "print('作者\\t標題\\t時間')\n",
    "for a in soup.find_all(class_='title'):\n",
    "    try:\n",
    "        title = a.find('a').text\n",
    "        link = 'https://www.ptt.cc'+a.find('a')['href']\n",
    "        req = requests.get(link)\n",
    "        soup2 = BeautifulSoup(req.text, 'lxml')\n",
    "        article_value = soup2.find_all(class_ = 'article-meta-value')\n",
    "        author = article_value[0].text\n",
    "        title = article_value[2].text\n",
    "        datetime = article_value[3].text\n",
    "        print(f'{author}\\t{title}\\t{datetime}')\n",
    "    except:\n",
    "        continue"
   ]
  }
 ],
 "metadata": {
  "kernelspec": {
   "display_name": "Python 3",
   "language": "python",
   "name": "python3"
  },
  "language_info": {
   "codemirror_mode": {
    "name": "ipython",
    "version": 3
   },
   "file_extension": ".py",
   "mimetype": "text/x-python",
   "name": "python",
   "nbconvert_exporter": "python",
   "pygments_lexer": "ipython3",
   "version": "3.7.3"
  }
 },
 "nbformat": 4,
 "nbformat_minor": 2
}
